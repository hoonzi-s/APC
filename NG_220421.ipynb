{
  "cells": [
    {
      "cell_type": "markdown",
      "metadata": {
        "id": "view-in-github",
        "colab_type": "text"
      },
      "source": [
        "<a href=\"https://colab.research.google.com/github/hoonzi-s/APC/blob/main/NG_220421.ipynb\" target=\"_parent\"><img src=\"https://colab.research.google.com/assets/colab-badge.svg\" alt=\"Open In Colab\"/></a>"
      ]
    },
    {
      "cell_type": "code",
      "source": [
        "from google.colab import drive\n",
        "drive.mount('/content/drive')"
      ],
      "metadata": {
        "id": "Sw4CMWeGjziA",
        "outputId": "af1904db-6a09-463f-b095-33c2f4ee4484",
        "colab": {
          "base_uri": "https://localhost:8080/"
        }
      },
      "id": "Sw4CMWeGjziA",
      "execution_count": 3,
      "outputs": [
        {
          "output_type": "stream",
          "name": "stdout",
          "text": [
            "Drive already mounted at /content/drive; to attempt to forcibly remount, call drive.mount(\"/content/drive\", force_remount=True).\n",
            "/bin/bash: line 0: cd: MyDrive: No such file or directory\n"
          ]
        }
      ]
    },
    {
      "cell_type": "code",
      "execution_count": 4,
      "id": "01f25715",
      "metadata": {
        "id": "01f25715"
      },
      "outputs": [],
      "source": [
        "import numpy as np\n",
        "import pandas as pd"
      ]
    },
    {
      "cell_type": "code",
      "execution_count": 28,
      "id": "3a27df49",
      "metadata": {
        "id": "3a27df49",
        "outputId": "36beaf45-aff5-494a-d39d-b0e302c120b8",
        "colab": {
          "base_uri": "https://localhost:8080/",
          "height": 206
        }
      },
      "outputs": [
        {
          "output_type": "execute_result",
          "data": {
            "text/plain": [
              "         Unnamed: 0  211FC0127.SP  211PC0129.OP  211FC0128.OP    211FC0128  \\\n",
              "0  2022-04-20 10:00         83500     23.435617     14.183225  13539.80957   \n",
              "1  2022-04-20 10:01         83500     23.215958     14.182668  13430.05859   \n",
              "2  2022-04-20 10:02         83500     23.102837     13.845316  12765.55664   \n",
              "3  2022-04-20 10:03         83500     22.991348     13.686910  12413.68164   \n",
              "4  2022-04-20 10:04         83500     22.989527     13.679918  12074.24316   \n",
              "\n",
              "   211FC0126.OP  \n",
              "0     13.749624  \n",
              "1     13.610147  \n",
              "2     13.794226  \n",
              "3     14.531040  \n",
              "4     14.730437  "
            ],
            "text/html": [
              "\n",
              "  <div id=\"df-a26c394c-1d15-46cd-9c9b-85ba119a202b\">\n",
              "    <div class=\"colab-df-container\">\n",
              "      <div>\n",
              "<style scoped>\n",
              "    .dataframe tbody tr th:only-of-type {\n",
              "        vertical-align: middle;\n",
              "    }\n",
              "\n",
              "    .dataframe tbody tr th {\n",
              "        vertical-align: top;\n",
              "    }\n",
              "\n",
              "    .dataframe thead th {\n",
              "        text-align: right;\n",
              "    }\n",
              "</style>\n",
              "<table border=\"1\" class=\"dataframe\">\n",
              "  <thead>\n",
              "    <tr style=\"text-align: right;\">\n",
              "      <th></th>\n",
              "      <th>Unnamed: 0</th>\n",
              "      <th>211FC0127.SP</th>\n",
              "      <th>211PC0129.OP</th>\n",
              "      <th>211FC0128.OP</th>\n",
              "      <th>211FC0128</th>\n",
              "      <th>211FC0126.OP</th>\n",
              "    </tr>\n",
              "  </thead>\n",
              "  <tbody>\n",
              "    <tr>\n",
              "      <th>0</th>\n",
              "      <td>2022-04-20 10:00</td>\n",
              "      <td>83500</td>\n",
              "      <td>23.435617</td>\n",
              "      <td>14.183225</td>\n",
              "      <td>13539.80957</td>\n",
              "      <td>13.749624</td>\n",
              "    </tr>\n",
              "    <tr>\n",
              "      <th>1</th>\n",
              "      <td>2022-04-20 10:01</td>\n",
              "      <td>83500</td>\n",
              "      <td>23.215958</td>\n",
              "      <td>14.182668</td>\n",
              "      <td>13430.05859</td>\n",
              "      <td>13.610147</td>\n",
              "    </tr>\n",
              "    <tr>\n",
              "      <th>2</th>\n",
              "      <td>2022-04-20 10:02</td>\n",
              "      <td>83500</td>\n",
              "      <td>23.102837</td>\n",
              "      <td>13.845316</td>\n",
              "      <td>12765.55664</td>\n",
              "      <td>13.794226</td>\n",
              "    </tr>\n",
              "    <tr>\n",
              "      <th>3</th>\n",
              "      <td>2022-04-20 10:03</td>\n",
              "      <td>83500</td>\n",
              "      <td>22.991348</td>\n",
              "      <td>13.686910</td>\n",
              "      <td>12413.68164</td>\n",
              "      <td>14.531040</td>\n",
              "    </tr>\n",
              "    <tr>\n",
              "      <th>4</th>\n",
              "      <td>2022-04-20 10:04</td>\n",
              "      <td>83500</td>\n",
              "      <td>22.989527</td>\n",
              "      <td>13.679918</td>\n",
              "      <td>12074.24316</td>\n",
              "      <td>14.730437</td>\n",
              "    </tr>\n",
              "  </tbody>\n",
              "</table>\n",
              "</div>\n",
              "      <button class=\"colab-df-convert\" onclick=\"convertToInteractive('df-a26c394c-1d15-46cd-9c9b-85ba119a202b')\"\n",
              "              title=\"Convert this dataframe to an interactive table.\"\n",
              "              style=\"display:none;\">\n",
              "        \n",
              "  <svg xmlns=\"http://www.w3.org/2000/svg\" height=\"24px\"viewBox=\"0 0 24 24\"\n",
              "       width=\"24px\">\n",
              "    <path d=\"M0 0h24v24H0V0z\" fill=\"none\"/>\n",
              "    <path d=\"M18.56 5.44l.94 2.06.94-2.06 2.06-.94-2.06-.94-.94-2.06-.94 2.06-2.06.94zm-11 1L8.5 8.5l.94-2.06 2.06-.94-2.06-.94L8.5 2.5l-.94 2.06-2.06.94zm10 10l.94 2.06.94-2.06 2.06-.94-2.06-.94-.94-2.06-.94 2.06-2.06.94z\"/><path d=\"M17.41 7.96l-1.37-1.37c-.4-.4-.92-.59-1.43-.59-.52 0-1.04.2-1.43.59L10.3 9.45l-7.72 7.72c-.78.78-.78 2.05 0 2.83L4 21.41c.39.39.9.59 1.41.59.51 0 1.02-.2 1.41-.59l7.78-7.78 2.81-2.81c.8-.78.8-2.07 0-2.86zM5.41 20L4 18.59l7.72-7.72 1.47 1.35L5.41 20z\"/>\n",
              "  </svg>\n",
              "      </button>\n",
              "      \n",
              "  <style>\n",
              "    .colab-df-container {\n",
              "      display:flex;\n",
              "      flex-wrap:wrap;\n",
              "      gap: 12px;\n",
              "    }\n",
              "\n",
              "    .colab-df-convert {\n",
              "      background-color: #E8F0FE;\n",
              "      border: none;\n",
              "      border-radius: 50%;\n",
              "      cursor: pointer;\n",
              "      display: none;\n",
              "      fill: #1967D2;\n",
              "      height: 32px;\n",
              "      padding: 0 0 0 0;\n",
              "      width: 32px;\n",
              "    }\n",
              "\n",
              "    .colab-df-convert:hover {\n",
              "      background-color: #E2EBFA;\n",
              "      box-shadow: 0px 1px 2px rgba(60, 64, 67, 0.3), 0px 1px 3px 1px rgba(60, 64, 67, 0.15);\n",
              "      fill: #174EA6;\n",
              "    }\n",
              "\n",
              "    [theme=dark] .colab-df-convert {\n",
              "      background-color: #3B4455;\n",
              "      fill: #D2E3FC;\n",
              "    }\n",
              "\n",
              "    [theme=dark] .colab-df-convert:hover {\n",
              "      background-color: #434B5C;\n",
              "      box-shadow: 0px 1px 3px 1px rgba(0, 0, 0, 0.15);\n",
              "      filter: drop-shadow(0px 1px 2px rgba(0, 0, 0, 0.3));\n",
              "      fill: #FFFFFF;\n",
              "    }\n",
              "  </style>\n",
              "\n",
              "      <script>\n",
              "        const buttonEl =\n",
              "          document.querySelector('#df-a26c394c-1d15-46cd-9c9b-85ba119a202b button.colab-df-convert');\n",
              "        buttonEl.style.display =\n",
              "          google.colab.kernel.accessAllowed ? 'block' : 'none';\n",
              "\n",
              "        async function convertToInteractive(key) {\n",
              "          const element = document.querySelector('#df-a26c394c-1d15-46cd-9c9b-85ba119a202b');\n",
              "          const dataTable =\n",
              "            await google.colab.kernel.invokeFunction('convertToInteractive',\n",
              "                                                     [key], {});\n",
              "          if (!dataTable) return;\n",
              "\n",
              "          const docLinkHtml = 'Like what you see? Visit the ' +\n",
              "            '<a target=\"_blank\" href=https://colab.research.google.com/notebooks/data_table.ipynb>data table notebook</a>'\n",
              "            + ' to learn more about interactive tables.';\n",
              "          element.innerHTML = '';\n",
              "          dataTable['output_type'] = 'display_data';\n",
              "          await google.colab.output.renderOutput(dataTable, element);\n",
              "          const docLink = document.createElement('div');\n",
              "          docLink.innerHTML = docLinkHtml;\n",
              "          element.appendChild(docLink);\n",
              "        }\n",
              "      </script>\n",
              "    </div>\n",
              "  </div>\n",
              "  "
            ]
          },
          "metadata": {},
          "execution_count": 28
        }
      ],
      "source": [
        "df = pd.read_csv('/content/drive/MyDrive/NG DATA.csv')\n",
        "df.head()"
      ]
    },
    {
      "cell_type": "code",
      "source": [
        "data = df.to_numpy()\n",
        "data"
      ],
      "metadata": {
        "id": "nVmagVoKkbrk",
        "outputId": "9f4ae416-da84-49c8-9f81-0b4f6deda5c0",
        "colab": {
          "base_uri": "https://localhost:8080/"
        }
      },
      "id": "nVmagVoKkbrk",
      "execution_count": 29,
      "outputs": [
        {
          "output_type": "execute_result",
          "data": {
            "text/plain": [
              "array([['2022-04-20 10:00', 83500, 23.43561745, 14.18322468, 13539.80957,\n",
              "        13.74962425],\n",
              "       ['2022-04-20 10:01', 83500, 23.21595764, 14.18266773, 13430.05859,\n",
              "        13.61014652],\n",
              "       ['2022-04-20 10:02', 83500, 23.10283661, 13.84531593, 12765.55664,\n",
              "        13.79422569],\n",
              "       ...,\n",
              "       ['2022-04-21 9:57', 83500, 33.95886612, 21.21465111, 22822.78516,\n",
              "        13.35941315],\n",
              "       ['2022-04-21 9:58', 83500, 34.32219696, 21.23196602, 24084.33984,\n",
              "        13.66921234],\n",
              "       ['2022-04-21 9:59', 83500, 34.00015259, 21.09687042, 22343.0918,\n",
              "        13.52228928]], dtype=object)"
            ]
          },
          "metadata": {},
          "execution_count": 29
        }
      ]
    },
    {
      "cell_type": "code",
      "source": [
        "mv = data[:, 1:3]\n",
        "cv02 = data[:, 3]\n",
        "cv02"
      ],
      "metadata": {
        "id": "JMQqOkkluqK-",
        "outputId": "05cc6afc-d8ee-456f-ad0a-e01374d41ffb",
        "colab": {
          "base_uri": "https://localhost:8080/"
        }
      },
      "id": "JMQqOkkluqK-",
      "execution_count": 33,
      "outputs": [
        {
          "output_type": "execute_result",
          "data": {
            "text/plain": [
              "array([14.18322468, 14.18266773, 13.84531593, ..., 21.21465111,\n",
              "       21.23196602, 21.09687042], dtype=object)"
            ]
          },
          "metadata": {},
          "execution_count": 33
        }
      ]
    },
    {
      "cell_type": "code",
      "source": [
        "from sklearn.model_selection import train_test_split as tts\n",
        "\n",
        "train_mv, test_mv, train_cv02, test_cv02 = tts(mv, cv02)"
      ],
      "metadata": {
        "id": "M2OvAX_Nux-H"
      },
      "id": "M2OvAX_Nux-H",
      "execution_count": 34,
      "outputs": []
    },
    {
      "cell_type": "code",
      "source": [
        "from sklearn.linear_model import LinearRegression\n",
        "\n",
        "lr = LinearRegression()\n",
        "lr.fit(train_mv, train_cv02)"
      ],
      "metadata": {
        "id": "xjCHmjpKuzlm",
        "outputId": "5994225c-e9ed-4bcc-a452-37ece2a4c6d1",
        "colab": {
          "base_uri": "https://localhost:8080/"
        }
      },
      "id": "xjCHmjpKuzlm",
      "execution_count": 35,
      "outputs": [
        {
          "output_type": "execute_result",
          "data": {
            "text/plain": [
              "LinearRegression()"
            ]
          },
          "metadata": {},
          "execution_count": 35
        }
      ]
    },
    {
      "cell_type": "code",
      "source": [
        "print(lr.score(train_mv, train_cv02))\n",
        "print(lr.score(test_mv, test_cv02))"
      ],
      "metadata": {
        "id": "QkCtdO5Xu4d-",
        "outputId": "43651d77-54a7-4e88-b1c2-d39d4eae5608",
        "colab": {
          "base_uri": "https://localhost:8080/"
        }
      },
      "id": "QkCtdO5Xu4d-",
      "execution_count": 36,
      "outputs": [
        {
          "output_type": "stream",
          "name": "stdout",
          "text": [
            "0.33538546786680923\n",
            "0.35706350775626383\n"
          ]
        }
      ]
    },
    {
      "cell_type": "code",
      "source": [
        "a = lr.coef_[1]"
      ],
      "metadata": {
        "id": "QbPDF0OAu6r_"
      },
      "id": "QbPDF0OAu6r_",
      "execution_count": 44,
      "outputs": []
    },
    {
      "cell_type": "code",
      "source": [
        "b = lr.intercept_"
      ],
      "metadata": {
        "id": "ZPPTJqXsvCHg"
      },
      "id": "ZPPTJqXsvCHg",
      "execution_count": 45,
      "outputs": []
    },
    {
      "cell_type": "code",
      "source": [
        "cv02"
      ],
      "metadata": {
        "id": "dJmzuXdn_HW-",
        "outputId": "f90ec919-aeb2-4fbd-aa7d-be767ec135a7",
        "colab": {
          "base_uri": "https://localhost:8080/"
        }
      },
      "id": "dJmzuXdn_HW-",
      "execution_count": 40,
      "outputs": [
        {
          "output_type": "execute_result",
          "data": {
            "text/plain": [
              "array([14.18322468, 14.18266773, 13.84531593, ..., 21.21465111,\n",
              "       21.23196602, 21.09687042], dtype=object)"
            ]
          },
          "metadata": {},
          "execution_count": 40
        }
      ]
    },
    {
      "cell_type": "code",
      "source": [
        "x = np.linspace(20, 35)\n",
        "y = a * x + b\n",
        "plt.figure()\n",
        "plt.scatter(mv[:, 1], cv02)\n",
        "plt.plot(x, y)\n",
        "plt.show()\n"
      ],
      "metadata": {
        "id": "kv8qeFTo_JM9",
        "outputId": "0d81a15a-64a3-4731-9662-3aa41ff3ea73",
        "colab": {
          "base_uri": "https://localhost:8080/",
          "height": 265
        }
      },
      "id": "kv8qeFTo_JM9",
      "execution_count": 46,
      "outputs": [
        {
          "output_type": "display_data",
          "data": {
            "text/plain": [
              "<Figure size 432x288 with 1 Axes>"
            ],
            "image/png": "[encoded data removed]"
          },
          "metadata": {
            "needs_background": "light"
          }
        }
      ]
    },
    {
      "cell_type": "code",
      "source": [
        ""
      ],
      "metadata": {
        "id": "9z2XPjrl_SIt"
      },
      "id": "9z2XPjrl_SIt",
      "execution_count": null,
      "outputs": []
    }
  ],
  "metadata": {
    "kernelspec": {
      "display_name": "Python 3 (ipykernel)",
      "language": "python",
      "name": "python3"
    },
    "language_info": {
      "codemirror_mode": {
        "name": "ipython",
        "version": 3
      },
      "file_extension": ".py",
      "mimetype": "text/x-python",
      "name": "python",
      "nbconvert_exporter": "python",
      "pygments_lexer": "ipython3",
      "version": "3.9.7"
    },
    "colab": {
      "name": "00. Untitled.ipynb",
      "provenance": [],
      "include_colab_link": true
    }
  },
  "nbformat": 4,
  "nbformat_minor": 5
}